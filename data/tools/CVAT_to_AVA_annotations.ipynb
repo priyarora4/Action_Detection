{
 "cells": [
  {
   "cell_type": "markdown",
   "metadata": {},
   "source": [
    "# Convert CVAT Video annotations to AVA format"
   ]
  },
  {
   "cell_type": "markdown",
   "metadata": {},
   "source": [
    "### Unzip File\n",
    "Make sure to set \"path_to_zip\" as the path to the zip file exported from CVAT"
   ]
  },
  {
   "cell_type": "code",
   "execution_count": 1,
   "metadata": {},
   "outputs": [],
   "source": [
    "def unzip_file(path_to_zip, extract_to=\"./\"):\n",
    "    import zipfile\n",
    "    with zipfile.ZipFile(path_to_zip, 'r') as zip_ref:\n",
    "        zip_ref.extractall(extract_to)\n",
    "\n",
    "path_to_zip = \"./Escape_Room_Small.zip\"\n",
    "unzip_file(path_to_zip, extract_to=\"./\")\n"
   ]
  },
  {
   "cell_type": "markdown",
   "metadata": {},
   "source": [
    "After unzipping, you should have a file named \"annotations.xml\". Make sure to rename this to something appropriate and set it below:"
   ]
  },
  {
   "cell_type": "markdown",
   "metadata": {},
   "source": [
    "### Imports and Setup\n",
    "Make sure to set `PATH_TO_XML`, `SAVE_FILE_PATH`  \n",
    "`NAME_TO_ID` maps the names of the actions to the id as described in `Action_Detection/data/actions_list.txt`  \n",
    "You can adjust this if you need to but it must be consistent with the `actions_list.txt`  \n"
   ]
  },
  {
   "cell_type": "code",
   "execution_count": null,
   "metadata": {},
   "outputs": [
    {
     "name": "stdout",
     "output_type": "stream",
     "text": [
      "Number of cores: 32\n"
     ]
    }
   ],
   "source": [
    "import numpy as np\n",
    "import os \n",
    "import xmltodict\n",
    "import pprint\n",
    "\n",
    "cores = os.cpu_count()\n",
    "print(f\"Number of cores: {cores}\")\n",
    "\n",
    "\n",
    "PATH_TO_XML = \"./escape_room_small_annotaions.xml\" #### SET XML FILE PATH HERE\n",
    "SAVE_FILE_PATH = \"./ava_annotations.txt\" #### SET SAVE FILE PATH HERE FOR THE CONVERTED ANNOTATIONS\n",
    "NAME_TO_ID = {\n",
    "    \"walk\": 0,\n",
    "    \"sit\": 1,\n",
    "    \"stand\": 2,\n",
    "    \"bend/bow (at the waist)\": 3,\n",
    "    \"run/jog\": 4,\n",
    "    \"hand wave\": 5,\n",
    "    \"get up\": 6,\n",
    "    \"paired(standing together with one other person)\": 7,\n",
    "    \"huddle (standing together with 2 or more people)\": 8,\n",
    "    \"lift/pick up\": 9,\n",
    "    \"carry/hold (an object)\": 10,\n",
    "    \"point to (an object)\": 11,\n",
    "    \"write\": 12,\n",
    "    \"read\": 13,\n",
    "    \"put down\": 14,\n",
    "    \"watch (object)\": 15,\n",
    "    \"talk to\": 16,\n",
    "    \"listen\": 17,\n",
    "    \"watch (person)\": 18,\n",
    "    \"gesture (a person)\": 19,\n",
    "    \"give/serve (an object) to (a person)\": 20,\n",
    "    \"take (an object) from (a person)\": 21,\n",
    "    \"face to face\": 22,\n",
    "    \"hi 5\": 23,\n",
    "    \"laugh\":25,\n",
    "    \"smile\":26,\n",
    "    \"stressed\":27,\n",
    "    \"annoyed/frustrated\":28,\n",
    "    \"take (an object) from (robot)\":29,\n",
    "    \"give/serve (an object) to (robot)\":30,\n",
    "    \"talk to (robot)\":31,\n",
    "    \"listen to (robot)\":32,\n",
    "    \"watch (robot)\":33,\n",
    "}\n"
   ]
  },
  {
   "cell_type": "markdown",
   "metadata": {},
   "source": [
    "### Convert annotations to AVA format"
   ]
  },
  {
   "cell_type": "markdown",
   "metadata": {},
   "source": [
    "#### Load XML file"
   ]
  },
  {
   "cell_type": "code",
   "execution_count": 7,
   "metadata": {},
   "outputs": [],
   "source": [
    "def get_xml_dic(xml_path):\n",
    "    with open(xml_path) as fd:\n",
    "        dic = xmltodict.parse(fd.read())\n",
    "    return dic\n",
    "\n",
    "\n",
    "annotations = get_xml_dic(PATH_TO_XML)['annotations']\n"
   ]
  },
  {
   "cell_type": "markdown",
   "metadata": {},
   "source": [
    "#### Meta Data"
   ]
  },
  {
   "cell_type": "code",
   "execution_count": 24,
   "metadata": {},
   "outputs": [
    {
     "name": "stdout",
     "output_type": "stream",
     "text": [
      "Number of videos:  2\n",
      "height:  360\n",
      "width:  640\n",
      "tracks:  6\n"
     ]
    }
   ],
   "source": [
    "video_name_to_task_id = {}\n",
    "task_id_to_video_name = {}\n",
    "height = None\n",
    "width = None\n",
    "\n",
    "\n",
    "for task in annotations['meta']['project']['tasks']['task']:\n",
    "    task_id = int(task['id'])\n",
    "    video_name = task['name']\n",
    "    video_name_to_task_id[video_name] = task_id\n",
    "    task_id_to_video_name[task_id] = video_name\n",
    "    height = int(task['original_size']['height'])\n",
    "    width = int(task['original_size']['width'])\n",
    "\n",
    "print(\"Number of videos: \", len(video_name_to_task_id))\n",
    "assert height is not None and width is not None\n",
    "print(\"height: \", height)\n",
    "print(\"width: \", width)\n",
    "print(\"tracks: \", len(annotations['track']))\n"
   ]
  },
  {
   "cell_type": "code",
   "execution_count": 34,
   "metadata": {},
   "outputs": [
    {
     "name": "stdout",
     "output_type": "stream",
     "text": [
      "Done\n"
     ]
    }
   ],
   "source": [
    "with open(SAVE_FILE_PATH, \"w\") as f:\n",
    "\n",
    "\n",
    "    for track in annotations['track']:\n",
    "        track_id = track['@id']\n",
    "        video_name = task_id_to_video_name[int(track['@task_id'])]\n",
    "        for box in track['box']:\n",
    "            frame_num = int(box[\"@frame\"])\n",
    "            if frame_num%30 == 0 and frame_num != 0:\n",
    "                outside = False if box['@outside'] == '0' else True\n",
    "                if not outside:\n",
    "                    xtl = round(float(box['@xtl']) / width, 3)\n",
    "                    ytl = round(float(box['@ytl']) / height, 3)\n",
    "                    xbr = round(float(box['@xbr']) / width, 3)\n",
    "                    ybr = round(float(box['@ybr']) / height, 3)\n",
    "                    for attribute in box['attribute']:\n",
    "                        action_name = attribute['#text']\n",
    "                        if action_name != \"None\" and attribute['@name'] != \"Person ID\":\n",
    "                            action_id = NAME_TO_ID[action_name]\n",
    "                            row_str = f\"{video_name},{frame_num},{xtl},{ytl},{xbr},{ybr},{action_id},{track_id}\"\n",
    "                            f.write(row_str + \"\\n\")\n",
    "            \n",
    "print(\"Done\")\n",
    "    "
   ]
  },
  {
   "cell_type": "code",
   "execution_count": null,
   "metadata": {},
   "outputs": [],
   "source": []
  }
 ],
 "metadata": {
  "kernelspec": {
   "display_name": "py310",
   "language": "python",
   "name": "python3"
  },
  "language_info": {
   "codemirror_mode": {
    "name": "ipython",
    "version": 3
   },
   "file_extension": ".py",
   "mimetype": "text/x-python",
   "name": "python",
   "nbconvert_exporter": "python",
   "pygments_lexer": "ipython3",
   "version": "3.1.undefined"
  }
 },
 "nbformat": 4,
 "nbformat_minor": 2
}
